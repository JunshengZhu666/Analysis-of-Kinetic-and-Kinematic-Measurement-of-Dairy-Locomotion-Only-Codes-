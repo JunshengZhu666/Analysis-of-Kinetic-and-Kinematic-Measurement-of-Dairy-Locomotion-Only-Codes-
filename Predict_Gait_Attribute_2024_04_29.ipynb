{
 "cells": [
  {
   "cell_type": "code",
   "execution_count": 2,
   "id": "79bf0c66",
   "metadata": {},
   "outputs": [
    {
     "name": "stdout",
     "output_type": "stream",
     "text": [
      "Set the printing size of the pandas df... \n"
     ]
    }
   ],
   "source": [
    "import os\n",
    "import pandas as pd\n",
    "import numpy as np\n",
    "# ingore future warning\n",
    "import warnings\n",
    "warnings.filterwarnings(\"ignore\", message=r\"Passing\", category=FutureWarning)\n",
    "# surprass chain warning\n",
    "pd.set_option('mode.chained_assignment', None)\n",
    "#warnings.filterwarnings(\"ignore\", message=r\"Passing\", category=SettingWithCopyWarning)\n",
    "\n",
    "print(\"Set the printing size of the pandas df... \")\n",
    "import pandas as pd\n",
    "pd.set_option('display.max_rows', 500)\n",
    "pd.set_option('display.max_columns', 500)\n",
    "pd.set_option('display.width', 1000)"
   ]
  },
  {
   "cell_type": "markdown",
   "id": "cbb2ccc5",
   "metadata": {},
   "source": [
    "### Read in Kinematic Dataset"
   ]
  },
  {
   "cell_type": "code",
   "execution_count": 3,
   "id": "4cd09b8b",
   "metadata": {},
   "outputs": [
    {
     "name": "stdout",
     "output_type": "stream",
     "text": [
      "test:  1-18-21-leona-clip1\n",
      "test:  2-9-21-robin-clip2\n"
     ]
    }
   ],
   "source": [
    "\"\"\" \n",
    "func: \n",
    "    transform the string format \n",
    "args: \n",
    "    s: str \n",
    "return: \n",
    "    s: str\n",
    "\"\"\"\n",
    "def tide_str(s, cut=False): \n",
    "    s = s.replace('_', '-')\n",
    "    s = s.lower()\n",
    "    s = s.replace('2021', '21')\n",
    "    return s\n",
    "\n",
    "# to transform the string format\n",
    "s = '1_18_2021_Leona_CLIP1' \n",
    "print(\"test: \", tide_str(s, cut=True))\n",
    "s = '2_9_2021_Robin_CLIP2' \n",
    "print(\"test: \", tide_str(s, cut=True))"
   ]
  },
  {
   "cell_type": "code",
   "execution_count": 4,
   "id": "021d15f5",
   "metadata": {},
   "outputs": [],
   "source": [
    "# get the path\n",
    "path = os.getcwd()\n",
    "files = os.listdir(path + '/excel')\n",
    "\n",
    "# filter excel\n",
    "files_xlsx = [f for f in files if f[-4:] == 'xlsx']\n"
   ]
  },
  {
   "cell_type": "code",
   "execution_count": 5,
   "id": "8958afcc",
   "metadata": {},
   "outputs": [],
   "source": [
    "# files_xlsx\n",
    "\n",
    "def clean_idx(test):\n",
    "    idx = test.index('clip')\n",
    "    return test[:idx+5]\n",
    "\n",
    "# process the name to make them corresponding\n",
    "excel_ls = [] \n",
    "for name in files_xlsx: \n",
    "    \"\"\"apply func\"\"\"\n",
    "    new = clean_idx(name.lower()) \n",
    "    new = new.replace(\"_\", \"-\")\n",
    "    # append\n",
    "    excel_ls.append(new)\n",
    "    \n"
   ]
  },
  {
   "cell_type": "code",
   "execution_count": 6,
   "id": "710653c7",
   "metadata": {},
   "outputs": [
    {
     "name": "stdout",
     "output_type": "stream",
     "text": [
      "read in back variable: \n",
      "now back_var is created\n"
     ]
    }
   ],
   "source": [
    "print(\"read in back variable: \")\n",
    "back_var = pd.read_csv(\"back_wave_variable.csv\")\n",
    "\n",
    "back_var['NAME'] = excel_ls\n",
    "\n",
    "print(\"now back_var is created\")"
   ]
  },
  {
   "cell_type": "markdown",
   "id": "c40bea79",
   "metadata": {},
   "source": [
    "### Read in video gait variables as df_var"
   ]
  },
  {
   "cell_type": "code",
   "execution_count": 7,
   "id": "6a55b98a",
   "metadata": {},
   "outputs": [
    {
     "name": "stdout",
     "output_type": "stream",
     "text": [
      "shape:  (828, 10)\n"
     ]
    }
   ],
   "source": [
    "df_var = pd.read_excel(\"kinematic_variable.xlsx\")\n",
    "print(\"shape: \", df_var.shape)"
   ]
  },
  {
   "cell_type": "code",
   "execution_count": 8,
   "id": "c12accc4",
   "metadata": {},
   "outputs": [
    {
     "name": "stdout",
     "output_type": "stream",
     "text": [
      "length:  69\n"
     ]
    }
   ],
   "source": [
    "# get the sorted list of idx\n",
    "idx_var = set(df_var.iloc[:, 0].tolist())\n",
    "idx_var = sorted(list(idx_var))\n",
    "print(\"length: \", len(idx_var))\n"
   ]
  },
  {
   "cell_type": "code",
   "execution_count": 9,
   "id": "f6ec5c61",
   "metadata": {},
   "outputs": [
    {
     "name": "stdout",
     "output_type": "stream",
     "text": [
      "extract nrs from attribute df\n",
      "check:  [3.0, 2.5, 3.0, 2.0, 2.0, 2.5, 2.5, 2.5, 3.0, 2.5, 2.5, 2.5, 3.0, 2.5, 2.5, 2.5, 3.0, 3.0, 3.0, 3.0, 2.0, 2.0, 2.5, 2.0, 2.0, 2.5, 3.0, 2.0, 4.0, 2.0, 2.0, 2.5, 3.0, 3.0, 2.0, 2.0, 2.5, 2.5, 3.0, 3.0, 1.5, 2.0, 2.5, 4.0, 3.5, 2.0, 2.0, 2.5, 2.5, 2.5, 2.5, 2.5, 2.5, 2.5, 3.0, 2.0, 2.0, 2.0, 2.0, 3.5, 3.0, 2.5, 2.5, 2.5, 2.0, 3.5, 3.0, 3.0, 3.5]\n"
     ]
    }
   ],
   "source": [
    "print(\"extract nrs from attribute df\")\n",
    "nrs_repete = df_var.iloc[:, -1].tolist()\n",
    "# get unique idx from repete by taking every 12th element \n",
    "nrs_single = []\n",
    "for i in range(0, len(nrs_repete), 12): \n",
    "    nrs_single.append(nrs_repete[i])\n",
    "    \n",
    "print(\"check: \", nrs_single)"
   ]
  },
  {
   "cell_type": "markdown",
   "id": "0a3202c5",
   "metadata": {},
   "source": [
    "### Read in visual gait attribute score as df_score"
   ]
  },
  {
   "cell_type": "code",
   "execution_count": 10,
   "id": "059667ed",
   "metadata": {},
   "outputs": [
    {
     "name": "stdout",
     "output_type": "stream",
     "text": [
      "shape:  (69, 8)\n"
     ]
    },
    {
     "data": {
      "text/html": [
       "<div>\n",
       "<style scoped>\n",
       "    .dataframe tbody tr th:only-of-type {\n",
       "        vertical-align: middle;\n",
       "    }\n",
       "\n",
       "    .dataframe tbody tr th {\n",
       "        vertical-align: top;\n",
       "    }\n",
       "\n",
       "    .dataframe thead th {\n",
       "        text-align: right;\n",
       "    }\n",
       "</style>\n",
       "<table border=\"1\" class=\"dataframe\">\n",
       "  <thead>\n",
       "    <tr style=\"text-align: right;\">\n",
       "      <th></th>\n",
       "      <th>Passage Name</th>\n",
       "      <th>swing</th>\n",
       "      <th>back</th>\n",
       "      <th>track</th>\n",
       "      <th>flex</th>\n",
       "      <th>asymm</th>\n",
       "      <th>reluctance to bear weight</th>\n",
       "      <th>NRS</th>\n",
       "    </tr>\n",
       "  </thead>\n",
       "  <tbody>\n",
       "    <tr>\n",
       "      <th>0</th>\n",
       "      <td>1_18_2021_Leona_CLIP1</td>\n",
       "      <td>1.5</td>\n",
       "      <td>1.5</td>\n",
       "      <td>0.5</td>\n",
       "      <td>2.0</td>\n",
       "      <td>1.0</td>\n",
       "      <td>2.0</td>\n",
       "      <td>3.0</td>\n",
       "    </tr>\n",
       "    <tr>\n",
       "      <th>1</th>\n",
       "      <td>1_19_2021_Honey_CLIP1</td>\n",
       "      <td>1.5</td>\n",
       "      <td>0.5</td>\n",
       "      <td>0.5</td>\n",
       "      <td>2.5</td>\n",
       "      <td>1.5</td>\n",
       "      <td>2.0</td>\n",
       "      <td>3.0</td>\n",
       "    </tr>\n",
       "    <tr>\n",
       "      <th>2</th>\n",
       "      <td>1_19_2021_Leona_CLIP1</td>\n",
       "      <td>1.0</td>\n",
       "      <td>1.0</td>\n",
       "      <td>1.0</td>\n",
       "      <td>2.5</td>\n",
       "      <td>0.0</td>\n",
       "      <td>0.5</td>\n",
       "      <td>2.0</td>\n",
       "    </tr>\n",
       "    <tr>\n",
       "      <th>3</th>\n",
       "      <td>1_20_2021_Beyonce_CLIP1</td>\n",
       "      <td>0.5</td>\n",
       "      <td>0.5</td>\n",
       "      <td>2.5</td>\n",
       "      <td>2.0</td>\n",
       "      <td>2.0</td>\n",
       "      <td>1.0</td>\n",
       "      <td>2.5</td>\n",
       "    </tr>\n",
       "    <tr>\n",
       "      <th>4</th>\n",
       "      <td>1_20_2021_Honey_CLIP1</td>\n",
       "      <td>1.5</td>\n",
       "      <td>2.0</td>\n",
       "      <td>0.0</td>\n",
       "      <td>3.0</td>\n",
       "      <td>1.0</td>\n",
       "      <td>0.5</td>\n",
       "      <td>2.5</td>\n",
       "    </tr>\n",
       "  </tbody>\n",
       "</table>\n",
       "</div>"
      ],
      "text/plain": [
       "             Passage Name   swing  back  track  flex  asymm  reluctance to bear weight  NRS\n",
       "0    1_18_2021_Leona_CLIP1    1.5   1.5    0.5   2.0    1.0                        2.0  3.0\n",
       "1    1_19_2021_Honey_CLIP1    1.5   0.5    0.5   2.5    1.5                        2.0  3.0\n",
       "2    1_19_2021_Leona_CLIP1    1.0   1.0    1.0   2.5    0.0                        0.5  2.0\n",
       "3  1_20_2021_Beyonce_CLIP1    0.5   0.5    2.5   2.0    2.0                        1.0  2.5\n",
       "4    1_20_2021_Honey_CLIP1    1.5   2.0    0.0   3.0    1.0                        0.5  2.5"
      ]
     },
     "execution_count": 10,
     "metadata": {},
     "output_type": "execute_result"
    }
   ],
   "source": [
    "df_score = pd.read_excel(\"gait_score.xlsx\")\n",
    "print(\"shape: \", df_score.shape)\n",
    "df_score.head()"
   ]
  },
  {
   "cell_type": "code",
   "execution_count": 11,
   "id": "3762cc8d",
   "metadata": {},
   "outputs": [
    {
     "name": "stdout",
     "output_type": "stream",
     "text": [
      "length:  69\n"
     ]
    }
   ],
   "source": [
    "# get the list of idx\n",
    "idx_score = df_score.iloc[:, 0].tolist()\n",
    "print(\"length: \", len(idx_score))\n"
   ]
  },
  {
   "cell_type": "code",
   "execution_count": null,
   "id": "9be713da",
   "metadata": {},
   "outputs": [],
   "source": []
  },
  {
   "cell_type": "markdown",
   "id": "0f6d88c5",
   "metadata": {},
   "source": [
    "### -----------------------------------------------------------------------------------\n",
    "### Attribute 1: Swing out (later extract from kinematic dataset)\n",
    "### Attribute 2: Arch back (later extract from kinematic dataset)\n",
    "### Attribute 3: Track up (use celia's data)\n",
    "### Attribute 4: Joint reflex (use celia's data)\n",
    "### Attribute 5: Asymmetric step (use stride length)\n",
    "### Attribute 6: Weight bearing (use stride time)\n",
    "### -----------------------------------------------------------------------------------"
   ]
  },
  {
   "cell_type": "code",
   "execution_count": 12,
   "id": "a09a540b",
   "metadata": {},
   "outputs": [],
   "source": [
    "\"\"\" \n",
    "func: \n",
    "    unify_name_get_score\n",
    "args: \n",
    "    df_var: panda df\n",
    "    df_score: panda df\n",
    "    idx_score: list[str] \n",
    "    NAME: str name of column of the score\n",
    "return: \n",
    "    idx_single_: list[str] \n",
    "    idx_score_: list[str] \n",
    "    var_score: list[float] score column by NAME\n",
    "\"\"\"\n",
    "def unify_name_get_score(df_var, df_score, idx_score, NAME):    \n",
    "    print(\"\\n 1, get unique idx from repete by taking every 12th element --> idx_single\")\n",
    "    idx_repete = df_var.iloc[:, 0].tolist()\n",
    "    # get unique idx from repete by taking every 12th element \n",
    "    idx_single = []\n",
    "    for i in range(0, len(idx_repete), 12): \n",
    "        idx_single.append(idx_repete[i])\n",
    "    # check length of idx_single \n",
    "    print(\"length :\", len(idx_single))\n",
    "\n",
    "    print(\"\\n 2. processing names of idx_single, cut string after clip(int) --> idx_single_\")\n",
    "    \"\"\"args: str, return: str\"\"\"\n",
    "    def clean_idx(test):\n",
    "        idx = test.index('clip')\n",
    "        return test[:idx+5]\n",
    "    test = '1-18-21-leona-clip2-copy'\n",
    "    result = clean_idx(test)\n",
    "    print(\"test: \", result)\n",
    "    \"\"\"using func\"\"\"\n",
    "    idx_single_ = [clean_idx(test) for test in idx_single]\n",
    "    print(\"len: \", len(idx_single_))\n",
    "\n",
    "    print(\"\\n 3. process name of idx_score\")\n",
    "    \"\"\"using func: \"\"\"\n",
    "    idx_score_ = [tide_str(s) for s in idx_score]\n",
    "    print(\"length: \", len(idx_score_))\n",
    "    print(\"check if we got all the names right\")\n",
    "    print(sorted(idx_score_) == sorted(idx_single_))\n",
    "\n",
    "    print(\"\\n 4. get the corresponding scores by cleaned name\")\n",
    "    # append the list of unsorted name to df\n",
    "    df_score[\"Clean_Name\"] = idx_score_\n",
    "    # now get the track score by name \n",
    "    var_score = []\n",
    "    # loop idx single and obtain score by sequence \n",
    "    for idx in range(len(idx_single_)): \n",
    "        var_score.append(df_score[df_score['Clean_Name'] == idx_single_[idx]][NAME].tolist()[0])\n",
    "    print(\"get: \", NAME, '_score')\n",
    "    \n",
    "    return idx_single, idx_single_, idx_score_, var_score"
   ]
  },
  {
   "cell_type": "markdown",
   "id": "7031e8c5",
   "metadata": {},
   "source": [
    "# Import and define classification models"
   ]
  },
  {
   "cell_type": "markdown",
   "id": "8fcb273d",
   "metadata": {},
   "source": [
    "### Do a strafied spliting with minimum class of 5 to allow in the testing group"
   ]
  },
  {
   "cell_type": "code",
   "execution_count": 13,
   "id": "fc972161",
   "metadata": {},
   "outputs": [],
   "source": [
    "\"\"\" \n",
    "func: \n",
    "    find the common index and return the test index\n",
    "args: \n",
    "    ls_ls: list[list[int]]\n",
    "    test_ratio = 0.3\n",
    "return: \n",
    "    test_idx: list[int]\n",
    "\"\"\"\n",
    "from collections import Counter\n",
    "def common_index(ls_ls, test_ratio = 0.3):\n",
    "\n",
    "    # set the complete index \n",
    "    common = [i for i in range(len(ls_ls[0]))]\n",
    "    print(\"check length: \", len(common))\n",
    "    \n",
    "    for y in ls_ls: \n",
    "\n",
    "        # get the count\n",
    "        count = Counter(y)\n",
    "\n",
    "        # get count that exceed min eamples\n",
    "        MIN = 6\n",
    "        key_ls = [key for (key, value) in count.items() if value >= MIN]\n",
    "\n",
    "        # get the index of these counts \n",
    "        index_ls = []\n",
    "        for i in range(len(y)): \n",
    "            if y[i] in key_ls: \n",
    "                index_ls.append(i)\n",
    "        \n",
    "        # find common by set \n",
    "        common = list(set(common) & set(index_ls))\n",
    "        print(\"check length: \", len(common))\n",
    "        \n",
    "    # pick testing index\n",
    "    print(\"common index: \", common)\n",
    "    np.random.seed(2024)\n",
    "    np.random.shuffle(common)\n",
    "    length = len(common)\n",
    "    \n",
    "    test_idx = common[:int(length*test_ratio)]\n",
    "    list1, list2 = [i for i in range(len(ls_ls[0]))], test_idx\n",
    "    train_idx = list(set(list1) - set(list2))\n",
    "    \n",
    "    return train_idx, test_idx"
   ]
  },
  {
   "cell_type": "code",
   "execution_count": 14,
   "id": "9ff209d5",
   "metadata": {},
   "outputs": [
    {
     "name": "stdout",
     "output_type": "stream",
     "text": [
      "\n",
      " 1, get unique idx from repete by taking every 12th element --> idx_single\n",
      "length : 69\n",
      "\n",
      " 2. processing names of idx_single, cut string after clip(int) --> idx_single_\n",
      "test:  1-18-21-leona-clip2\n",
      "len:  69\n",
      "\n",
      " 3. process name of idx_score\n",
      "length:  69\n",
      "check if we got all the names right\n",
      "True\n",
      "\n",
      " 4. get the corresponding scores by cleaned name\n",
      "get:  swing _score\n",
      "\n",
      " 1, get unique idx from repete by taking every 12th element --> idx_single\n",
      "length : 69\n",
      "\n",
      " 2. processing names of idx_single, cut string after clip(int) --> idx_single_\n",
      "test:  1-18-21-leona-clip2\n",
      "len:  69\n",
      "\n",
      " 3. process name of idx_score\n",
      "length:  69\n",
      "check if we got all the names right\n",
      "True\n",
      "\n",
      " 4. get the corresponding scores by cleaned name\n",
      "get:  back _score\n",
      "\n",
      " 1, get unique idx from repete by taking every 12th element --> idx_single\n",
      "length : 69\n",
      "\n",
      " 2. processing names of idx_single, cut string after clip(int) --> idx_single_\n",
      "test:  1-18-21-leona-clip2\n",
      "len:  69\n",
      "\n",
      " 3. process name of idx_score\n",
      "length:  69\n",
      "check if we got all the names right\n",
      "True\n",
      "\n",
      " 4. get the corresponding scores by cleaned name\n",
      "get:  track _score\n",
      "\n",
      " 1, get unique idx from repete by taking every 12th element --> idx_single\n",
      "length : 69\n",
      "\n",
      " 2. processing names of idx_single, cut string after clip(int) --> idx_single_\n",
      "test:  1-18-21-leona-clip2\n",
      "len:  69\n",
      "\n",
      " 3. process name of idx_score\n",
      "length:  69\n",
      "check if we got all the names right\n",
      "True\n",
      "\n",
      " 4. get the corresponding scores by cleaned name\n",
      "get:  flex _score\n",
      "\n",
      " 1, get unique idx from repete by taking every 12th element --> idx_single\n",
      "length : 69\n",
      "\n",
      " 2. processing names of idx_single, cut string after clip(int) --> idx_single_\n",
      "test:  1-18-21-leona-clip2\n",
      "len:  69\n",
      "\n",
      " 3. process name of idx_score\n",
      "length:  69\n",
      "check if we got all the names right\n",
      "True\n",
      "\n",
      " 4. get the corresponding scores by cleaned name\n",
      "get:  asymm _score\n",
      "\n",
      " 1, get unique idx from repete by taking every 12th element --> idx_single\n",
      "length : 69\n",
      "\n",
      " 2. processing names of idx_single, cut string after clip(int) --> idx_single_\n",
      "test:  1-18-21-leona-clip2\n",
      "len:  69\n",
      "\n",
      " 3. process name of idx_score\n",
      "length:  69\n",
      "check if we got all the names right\n",
      "True\n",
      "\n",
      " 4. get the corresponding scores by cleaned name\n",
      "get:  reluctance to bear weight _score\n",
      "check length:  69\n",
      "check length:  60\n",
      "check length:  60\n",
      "check length:  47\n",
      "check length:  47\n",
      "check length:  41\n",
      "check length:  38\n",
      "common index:  [0, 1, 2, 6, 7, 8, 12, 17, 18, 20, 21, 23, 25, 27, 31, 32, 33, 36, 37, 38, 39, 40, 41, 44, 46, 48, 49, 50, 51, 52, 54, 56, 57, 58, 60, 61, 66, 67]\n"
     ]
    }
   ],
   "source": [
    "\"\"\"func: \"\"\"\n",
    "NAME = 'swing'\n",
    "idx_single, idx_single_, idx_score_, var_score = unify_name_get_score(df_var, df_score, idx_score, NAME)\n",
    "swing_score = var_score\n",
    "\n",
    "NAME = 'back'\n",
    "idx_single, idx_single_, idx_score_, var_score = unify_name_get_score(df_var, df_score, idx_score, NAME)\n",
    "back_score = var_score\n",
    "\n",
    "NAME = 'track'\n",
    "idx_single, idx_single_, idx_score_, var_score = unify_name_get_score(df_var, df_score, idx_score, NAME)\n",
    "track_score = var_score\n",
    "\n",
    "NAME = 'flex'\n",
    "idx_single, idx_single_, idx_score_, var_score = unify_name_get_score(df_var, df_score, idx_score, NAME)\n",
    "flex_score = var_score\n",
    "\n",
    "NAME = 'asymm'\n",
    "idx_single, idx_single_, idx_score_, var_score = unify_name_get_score(df_var, df_score, idx_score, NAME)\n",
    "asymm_score = var_score\n",
    "\n",
    "NAME = 'reluctance to bear weight'\n",
    "idx_single, idx_single_, idx_score_, var_score = unify_name_get_score(df_var, df_score, idx_score, NAME)\n",
    "weight_score = var_score\n",
    "\n",
    "ls_ls = [swing_score, back_score, track_score, flex_score, asymm_score, weight_score]\n",
    "\n",
    "\"\"\"using func: \"\"\"\n",
    "train_idx, test_idx = common_index(ls_ls)"
   ]
  },
  {
   "cell_type": "markdown",
   "id": "d0f44553",
   "metadata": {},
   "source": [
    "### Training and testing function from sklearn"
   ]
  },
  {
   "cell_type": "code",
   "execution_count": 15,
   "id": "1a1501e5",
   "metadata": {},
   "outputs": [],
   "source": [
    "from sklearn.exceptions import UndefinedMetricWarning\n",
    "import warnings\n",
    "warnings.filterwarnings(\"ignore\", category=UndefinedMetricWarning)\n",
    "\n",
    "# Importing the required libraries\n",
    "import numpy as np\n",
    "import pandas as pd\n",
    "from sklearn.model_selection import train_test_split\n",
    "from sklearn.metrics import accuracy_score, precision_score, recall_score, f1_score\n",
    "from sklearn import datasets\n",
    "from sklearn.linear_model import SGDClassifier\n",
    "from sklearn import svm\n",
    "from sklearn.tree import DecisionTreeClassifier\n",
    "from sklearn.naive_bayes import GaussianNB\n",
    "from sklearn.metrics import confusion_matrix, ConfusionMatrixDisplay\n",
    "import matplotlib.pyplot as plt\n",
    "from sklearn.model_selection import LeaveOneOut\n",
    " \n",
    "\n",
    "def loo_best_model(X_train, y_train, X_test, models):\n",
    "    loo = LeaveOneOut()\n",
    "    best_score = -np.inf\n",
    "    best_model = None\n",
    "\n",
    "    # Evaluate each model using LOO cross-validation\n",
    "    for model in models:\n",
    "        scores = []\n",
    "        for train_idx, val_idx in loo.split(X_train):\n",
    "            X_train_part = X_train[train_idx]\n",
    "            y_train_part = y_train[train_idx]\n",
    "            X_val = X_train[val_idx]\n",
    "            y_val = y_train[val_idx]\n",
    "\n",
    "            model.fit(X_train_part, y_train_part)\n",
    "            y_pred = model.predict(X_val)\n",
    "            \"\"\"using func: \"\"\"\n",
    "            acc, pre, rec, f1 = evaluate(y_val, y_pred)\n",
    "            scores.append(f1)\n",
    "\n",
    "        avg_score = np.mean(scores)\n",
    "        if avg_score > best_score:\n",
    "            best_score = avg_score\n",
    "            best_model = model\n",
    "            \n",
    "    # Train the best model on the entire training dataset\n",
    "    best_model.fit(X_train, y_train)\n",
    "    # Make predictions on the test dataset\n",
    "    y_pred = best_model.predict(X_test)\n",
    "    \n",
    "    return y_pred\n",
    "\n",
    "\"\"\" \n",
    "func: \n",
    "args: \n",
    "    y_test, y_pred: list[int]\n",
    "return: \n",
    "    pre, rec, f1: float\n",
    "\"\"\"\n",
    "def evaluate(y_test, y_pred):\n",
    "    acc = accuracy_score(y_test, y_pred)\n",
    "\n",
    "    pre = precision_score(y_test, y_pred, average='weighted')\n",
    "\n",
    "    rec = recall_score(y_test, y_pred, average='weighted')\n",
    "\n",
    "    f1 = f1_score(y_test, y_pred, average='weighted')\n",
    "    \n",
    "    #print(\"ACC, Precision, Recall, F1-Score: \", acc, pre, rec, f1)\n",
    "    return acc, pre, rec, f1\n",
    " \n",
    "def stratify_split(X, y, train_idx, test_idx): \n",
    "    print(\"a starified train/test spliting\")\n",
    "    return X[train_idx], X[test_idx], y[train_idx], y[test_idx]\n",
    "\n",
    "def split_train_evaluate(X, y, train_idx, test_idx):\n",
    "\n",
    "    # init result to store performance\n",
    "    result = []\n",
    "    # init best model, later judge by f1\n",
    "    best_model, best_f1 = 0, 0\n",
    "    \n",
    "    # splitting X and y into training and testing sets\n",
    "    X_train, X_test, y_train, y_test = stratify_split(X, y, train_idx, test_idx)\n",
    "\n",
    "    # a list of models \n",
    "    models = [SGDClassifier(max_iter=1000, tol=1e-3), GaussianNB(), DecisionTreeClassifier(random_state=0), svm.SVC(kernel='linear')]\n",
    "\n",
    "    \"\"\"using func: wiht loo\"\"\"\n",
    "    y_pred = loo_best_model(X_train, y_train, X_test, models)\n",
    "    \n",
    "    \"\"\"using func: \"\"\"\n",
    "    acc, pre, rec, f1 = evaluate(y_test, y_pred)\n",
    "    print(\"acc, pre, rec, f1: \", acc, pre, rec, f1)\n",
    "    # back-transform label to score \n",
    "    test_score = [i/2 for i in y_test]\n",
    "    pred_score = [i/2 for i in y_pred]\n",
    "    LABEL = sorted(list(set(test_score)))\n",
    "    # compute and plot the confusion matrix\n",
    "    cm = confusion_matrix(y_test, y_pred, labels = sorted(list(set(y_test))))\n",
    "    disp = ConfusionMatrixDisplay(confusion_matrix = cm, display_labels = LABEL)\n",
    "    disp.plot()\n",
    "    plt.show()\n",
    "    \n",
    "    return result, best_model, best_f1, y_pred, y_test"
   ]
  },
  {
   "cell_type": "code",
   "execution_count": 16,
   "id": "35c4a6ab",
   "metadata": {},
   "outputs": [],
   "source": [
    "\"\"\" \n",
    "func: \n",
    "    scatter plot with diff labels \n",
    "args: \n",
    "    X: np \n",
    "    y_score: list[float]  original score\n",
    "    variable_name: list[str]\n",
    "reutrn: \n",
    "    plot\n",
    "\"\"\"\n",
    "import seaborn as sns\n",
    "def scatter_label(X, y_score, variable_name):    \n",
    "\n",
    "    plot_df = pd.DataFrame(data=X, columns=variable_name)\n",
    "    plot_df['label'] = y_score\n",
    "\n",
    "    # create a scatter plot with two variables (sepal length and petal length)\n",
    "    # use different markers for different classes/species\n",
    "    MARKER = ['o', 'o', 'o', '^', '^', '^',  's', 's', 's']\n",
    "    COLOR = ['yellowgreen', 'lightgreen', 'forestgreen', 'limegreen',  'navy', 'slateblue', 'blueviolet', 'indigo', 'rebeccapurple', 'purple', 'midnightblue']\n",
    "    \n",
    "    sns.lmplot(data=plot_df, x=variable_name[0], y=variable_name[1], \n",
    "               hue='label', fit_reg=False, markers=MARKER[:len(set(y))], palette=COLOR[:len(set(y))])\n",
    "\n",
    "    # set plot labels and title\n",
    "    plt.xlabel(variable_name[0])\n",
    "    plt.ylabel(variable_name[1])\n",
    "    plt.title('Classification based on two variables')\n",
    "\n",
    "    # show the plot\n",
    "    plt.show()"
   ]
  },
  {
   "cell_type": "code",
   "execution_count": 17,
   "id": "157bb041",
   "metadata": {},
   "outputs": [
    {
     "name": "stdout",
     "output_type": "stream",
     "text": [
      "init list to store all X, y, y_pred, y_test\n",
      "init as:  [0, 0, 0, 0, 0, 0]\n"
     ]
    }
   ],
   "source": [
    "print(\"init list to store all X, y, y_pred, y_test\")\n",
    "X_all, y_all, y_pred_all, y_test_all = 6*[0], 6*[0], 6*[0], 6*[0]\n",
    "print(\"init as: \", X_all)"
   ]
  },
  {
   "cell_type": "code",
   "execution_count": null,
   "id": "54a97703",
   "metadata": {},
   "outputs": [],
   "source": []
  },
  {
   "cell_type": "markdown",
   "id": "5c811fd6",
   "metadata": {},
   "source": [
    "# Attribute 1: Swing"
   ]
  },
  {
   "cell_type": "code",
   "execution_count": 18,
   "id": "28175f61",
   "metadata": {},
   "outputs": [
    {
     "name": "stdout",
     "output_type": "stream",
     "text": [
      "fill in nan with column mean\n"
     ]
    }
   ],
   "source": [
    "\n",
    "\"\"\" \n",
    "func: \n",
    "    get the variable track up from df \n",
    "args: \n",
    "    df: panda data \n",
    "    method: (string) how we compress the data \n",
    "    idx_single: list[string] list of data point name\n",
    "return: \n",
    "    var_ls_ls: list[list[float]]\n",
    "\"\"\"\n",
    "import numpy as np\n",
    "def swing_variable(df_var, method, idx_single):\n",
    "    \n",
    "    # make all positive \n",
    "    df_var['track-up-disX'] = df_var['track-up-disX'].abs()\n",
    "    \n",
    "    # loop the data by name \n",
    "    var_ls_ls = []\n",
    "    for name in idx_single:\n",
    "        # print(\"name: \", name)\n",
    "        # extract from df\n",
    "        disX = df_var.loc[df_var['ID'] == name]['track-up-disX']\n",
    "        \n",
    "        # transform the list into variables\n",
    "        if method == 'mean': \n",
    "            # get the mean out of three steps \n",
    "            # here the index because we want to bypass the nan value\n",
    "            left_x = np.nanmean(disX.tolist()[:3])\n",
    "            right_x = np.nanmean(disX.tolist()[6:9])\n",
    "            var_ls = [left_x + right_x, abs(left_x - right_x)]\n",
    "        elif method == 'max': \n",
    "            # here the index because we want to bypass the nan value\n",
    "            left_x = max(disX.tolist()[:3])\n",
    "            right_x = max(disX.tolist()[6:9])\n",
    "            var_ls = [left_x + right_x, abs(left_x - right_x)]\n",
    "        else: \n",
    "            print(\"method not found\")\n",
    "\n",
    "        # make all positive and round up\n",
    "        var_ls = [abs(round(i, 4)) for i in var_ls]\n",
    "        # print(\"var_ls: \", var_ls)\n",
    "        # append \n",
    "        var_ls_ls.append(var_ls) \n",
    "    print(\"length: \", len(var_ls_ls))\n",
    "    return var_ls_ls\n",
    "\n",
    "print(\"fill in nan with column mean\")\n",
    "\"\"\" \n",
    "func: \n",
    "    fill in nan with column mean: \n",
    "args: \n",
    "    a: np \n",
    "return: \n",
    "    a: np\n",
    "\"\"\"\n",
    "def col_fill(a): \n",
    "    # obtian mean/median\n",
    "    col_mean = np.nanmedian(a, axis=0)\n",
    "    # find indices that you need to replace\n",
    "    inds = np.where(np.isnan(a))\n",
    "    # place column means in the indices. Align the arrays using take\n",
    "    a[inds] = np.take(col_mean, inds[1])\n",
    "    return a\n"
   ]
  },
  {
   "cell_type": "code",
   "execution_count": 19,
   "id": "e21c2f17",
   "metadata": {},
   "outputs": [
    {
     "name": "stdout",
     "output_type": "stream",
     "text": [
      "extract variable: \n",
      "length:  69\n",
      "there is nan that we need to fill up by column mean\n",
      "get shape:  (69, 2)\n"
     ]
    }
   ],
   "source": [
    "print(\"extract variable: \")\n",
    "# set the method \n",
    "method = 'mean'\n",
    "\"\"\"func: \"\"\"\n",
    "var_ls_ls = swing_variable(df_var, method, idx_single)\n",
    "\n",
    "print(\"there is nan that we need to fill up by column mean\")\n",
    "\"\"\"func: \"\"\"\n",
    "X_np = col_fill(np.array(var_ls_ls))\n",
    "print(\"get shape: \", X_np.shape)"
   ]
  },
  {
   "cell_type": "code",
   "execution_count": 20,
   "id": "d05125cd",
   "metadata": {},
   "outputs": [
    {
     "name": "stdout",
     "output_type": "stream",
     "text": [
      "train and test model\n",
      "a starified train/test spliting\n",
      "acc, pre, rec, f1:  0.18181818181818182 0.22727272727272727 0.18181818181818182 0.20202020202020202\n"
     ]
    },
    {
     "data": {
      "image/png": "[encoded data removed]",
      "text/plain": [
       "<Figure size 432x288 with 2 Axes>"
      ]
     },
     "metadata": {
      "needs_background": "light"
     },
     "output_type": "display_data"
    },
    {
     "data": {
      "image/png": "[encoded data removed]",
      "text/plain": [
       "<Figure size 412x360 with 1 Axes>"
      ]
     },
     "metadata": {
      "needs_background": "light"
     },
     "output_type": "display_data"
    }
   ],
   "source": [
    "print(\"train and test model\")\n",
    "# label tranform\n",
    "y_score = swing_score\n",
    "y_label = [int(i*2) for i in y_score]\n",
    "\"\"\"using func: \"\"\"\n",
    "X, y = X_np, np.array(y_label)\n",
    "result, best_model, best_f1, y_pred, y_test = split_train_evaluate(X, y, train_idx, test_idx)\n",
    "# append \n",
    "idx = 0\n",
    "X_all[idx], y_all[idx], y_pred_all[idx], y_test_all[idx] = X, y, y_pred, y_test\n",
    "\n",
    "\"\"\"using func: \"\"\"\n",
    "variable_name = ['left + right', 'left - right']\n",
    "scatter_label(X, y_score, variable_name)"
   ]
  },
  {
   "cell_type": "code",
   "execution_count": null,
   "id": "905db845",
   "metadata": {},
   "outputs": [],
   "source": []
  },
  {
   "cell_type": "markdown",
   "id": "528ffb28",
   "metadata": {},
   "source": [
    "# Attribute 2: Back-arch"
   ]
  },
  {
   "cell_type": "code",
   "execution_count": 20,
   "id": "f729b339",
   "metadata": {},
   "outputs": [],
   "source": [
    "\n",
    "\"\"\" \n",
    "func: \n",
    "    get the variable track up from df \n",
    "args: \n",
    "    df: panda data \n",
    "    method: (string) how we compress the data \n",
    "    idx_single: list[string] list of data point name\n",
    "return: \n",
    "    var_ls_ls: list[list[float]]\n",
    "\"\"\"\n",
    "import numpy as np\n",
    "def back_variable(df_var, idx_single_):\n",
    "\n",
    "    # loop the data by name \n",
    "    var_ls_ls = []\n",
    "    for name in idx_single_:\n",
    "        # print(\"name: \", name)\n",
    "        # extract from df\n",
    "        var_ls = df_var.loc[df_var['NAME'] == name]\n",
    "        var_ls = var_ls.iloc[0, :3].tolist()\n",
    "        # print(\"var_ls: \", var_ls)\n",
    "        # append \n",
    "        var_ls_ls.append(var_ls) \n",
    "    print(\"length: \", len(var_ls_ls))\n",
    "    return var_ls_ls\n"
   ]
  },
  {
   "cell_type": "code",
   "execution_count": 21,
   "id": "46c32caf",
   "metadata": {},
   "outputs": [
    {
     "name": "stdout",
     "output_type": "stream",
     "text": [
      "length:  69\n"
     ]
    }
   ],
   "source": [
    "\"\"\"using func: \"\"\"\n",
    "var_ls_ls = back_variable(back_var, idx_single_)\n",
    "X_np = np.array(var_ls_ls)"
   ]
  },
  {
   "cell_type": "code",
   "execution_count": 22,
   "id": "450cc4b8",
   "metadata": {},
   "outputs": [
    {
     "name": "stdout",
     "output_type": "stream",
     "text": [
      "train and test model\n",
      "a starified train/test spliting\n",
      "acc, pre, rec, f1:  0.45454545454545453 0.5757575757575757 0.45454545454545453 0.45454545454545453\n"
     ]
    },
    {
     "data": {
      "image/png": "[encoded data removed]",
      "text/plain": [
       "<Figure size 432x288 with 2 Axes>"
      ]
     },
     "metadata": {
      "needs_background": "light"
     },
     "output_type": "display_data"
    },
    {
     "data": {
      "image/png": "[encoded data removed]",
      "text/plain": [
       "<Figure size 412x360 with 1 Axes>"
      ]
     },
     "metadata": {
      "needs_background": "light"
     },
     "output_type": "display_data"
    }
   ],
   "source": [
    "print(\"train and test model\")\n",
    "# label tranform\n",
    "y_score = back_score\n",
    "y_label = [int(i*2) for i in y_score]\n",
    "\"\"\"using func: \"\"\"\n",
    "X, y = X_np, np.array(y_label)\n",
    "result, best_model, best_f1, y_pred, y_test = split_train_evaluate(X, y, train_idx, test_idx)\n",
    "# append \n",
    "idx = 1\n",
    "X_all[idx], y_all[idx], y_pred_all[idx], y_test_all[idx] = X, y, y_pred, y_test\n",
    "\n",
    "\"\"\"using func: \"\"\"\n",
    "variable_name = ['left + right', 'left - right']\n",
    "scatter_label(X[:, :2], y_score, variable_name)"
   ]
  },
  {
   "cell_type": "code",
   "execution_count": null,
   "id": "4a03470d",
   "metadata": {},
   "outputs": [],
   "source": []
  },
  {
   "cell_type": "code",
   "execution_count": null,
   "id": "57baa243",
   "metadata": {},
   "outputs": [],
   "source": []
  },
  {
   "cell_type": "markdown",
   "id": "eeb28db2",
   "metadata": {},
   "source": [
    "# Attribute 3: Track up (use celia's data) from df_var"
   ]
  },
  {
   "cell_type": "code",
   "execution_count": 23,
   "id": "5412b2bb",
   "metadata": {},
   "outputs": [
    {
     "name": "stdout",
     "output_type": "stream",
     "text": [
      "fill in nan with column mean\n"
     ]
    }
   ],
   "source": [
    "\n",
    "\"\"\" \n",
    "func: \n",
    "    get the variable track up from df \n",
    "args: \n",
    "    df: panda data \n",
    "    method: (string) how we compress the data \n",
    "    idx_single: list[string] list of data point name\n",
    "return: \n",
    "    var_ls_ls: list[list[float]]\n",
    "\"\"\"\n",
    "import numpy as np\n",
    "def track_up_variable(df_var, method, idx_single):\n",
    "    \n",
    "    # make all positive \n",
    "    df_var['track-up-disXY'] = df_var['track-up-disXY'].abs()\n",
    "    df_var['track-up-disX'] = df_var['track-up-disX'].abs()\n",
    "    \n",
    "    # loop the data by name \n",
    "    var_ls_ls = []\n",
    "    for name in idx_single:\n",
    "        # print(\"name: \", name)\n",
    "        # extract from df\n",
    "        disXY = df_var.loc[df_var['ID'] == name]['track-up-disXY']\n",
    "        disX = df_var.loc[df_var['ID'] == name]['track-up-disX']\n",
    "\n",
    "        # get the mean out of three steps \n",
    "        # here the index because we want to bypass the nan value\n",
    "        left_xy = np.nanmean(disXY.tolist()[:3])\n",
    "        right_xy = np.nanmean(disXY.tolist()[6:9])\n",
    "        left_x = np.nanmean(disX.tolist()[:3])\n",
    "        right_x = np.nanmean(disX.tolist()[6:9])\n",
    "        \n",
    "        # transform the list into variables\n",
    "        if method == 'mean': \n",
    "            var_ls = [np.mean(left_xy, right_xy), np.mean(left_x, right_x)]\n",
    "        elif method == 'max': \n",
    "            var_ls = [max(left_xy, right_xy), max(left_x, right_x)]\n",
    "        else: \n",
    "            print(\"method not found\")\n",
    "\n",
    "        # make all positive and round up\n",
    "        var_ls = [abs(round(i, 4)) for i in var_ls]\n",
    "        # print(\"var_ls: \", var_ls)\n",
    "        # append \n",
    "        var_ls_ls.append(var_ls) \n",
    "    print(\"length: \", len(var_ls_ls))\n",
    "    return var_ls_ls\n",
    "\n",
    "print(\"fill in nan with column mean\")\n",
    "\"\"\" \n",
    "func: \n",
    "    fill in nan with column mean: \n",
    "args: \n",
    "    a: np \n",
    "return: \n",
    "    a: np\n",
    "\"\"\"\n",
    "def col_fill(a): \n",
    "    # obtian mean/median\n",
    "    col_mean = np.nanmedian(a, axis=0)\n",
    "    # find indices that you need to replace\n",
    "    inds = np.where(np.isnan(a))\n",
    "    # place column means in the indices. Align the arrays using take\n",
    "    a[inds] = np.take(col_mean, inds[1])\n",
    "    return a\n",
    "\n"
   ]
  },
  {
   "cell_type": "code",
   "execution_count": 24,
   "id": "b7ac8d87",
   "metadata": {},
   "outputs": [
    {
     "name": "stdout",
     "output_type": "stream",
     "text": [
      "extract track-up-disXY and track-up-disX (by the sequence of idx_single)\n",
      "length:  69\n",
      "there is nan that we need to fill up by column mean\n",
      "get var_np:  (69, 2)\n"
     ]
    }
   ],
   "source": [
    "print(\"extract track-up-disXY and track-up-disX (by the sequence of idx_single)\")\n",
    "\n",
    "# set the method \n",
    "method = 'max'\n",
    "\"\"\"func: \"\"\"\n",
    "var_ls_ls = track_up_variable(df_var, method, idx_single)\n",
    "print(\"there is nan that we need to fill up by column mean\")\n",
    "\n",
    "\"\"\"func: \"\"\"\n",
    "X_np = col_fill(np.array(var_ls_ls))\n",
    "print(\"get var_np: \", X_np.shape)"
   ]
  },
  {
   "cell_type": "code",
   "execution_count": 25,
   "id": "97b87577",
   "metadata": {},
   "outputs": [
    {
     "name": "stdout",
     "output_type": "stream",
     "text": [
      "train and test model\n",
      "a starified train/test spliting\n",
      "acc, pre, rec, f1:  0.6363636363636364 0.5227272727272727 0.6363636363636364 0.5714285714285714\n"
     ]
    },
    {
     "data": {
      "image/png": "[encoded data removed]",
      "text/plain": [
       "<Figure size 432x288 with 2 Axes>"
      ]
     },
     "metadata": {
      "needs_background": "light"
     },
     "output_type": "display_data"
    },
    {
     "data": {
      "image/png": "[encoded data removed]",
      "text/plain": [
       "<Figure size 412x360 with 1 Axes>"
      ]
     },
     "metadata": {
      "needs_background": "light"
     },
     "output_type": "display_data"
    }
   ],
   "source": [
    "print(\"train and test model\")\n",
    "# label tranform\n",
    "y_score = track_score\n",
    "y_label = [int(i*2) for i in y_score]\n",
    "\"\"\"using func: \"\"\"\n",
    "X, y = X_np, np.array(y_label)\n",
    "result, best_model, best_f1, y_pred, y_test = split_train_evaluate(X, y, train_idx, test_idx)\n",
    "# append \n",
    "idx = 2\n",
    "X_all[idx], y_all[idx], y_pred_all[idx], y_test_all[idx] = X, y, y_pred, y_test\n",
    "\n",
    "\"\"\"using func: \"\"\"\n",
    "variable_name = ['XY dis', 'X dis']\n",
    "scatter_label(X, y_score, variable_name)"
   ]
  },
  {
   "cell_type": "code",
   "execution_count": null,
   "id": "200614bb",
   "metadata": {},
   "outputs": [],
   "source": []
  },
  {
   "cell_type": "markdown",
   "id": "f96a08e2",
   "metadata": {},
   "source": [
    "# Attribute 4: Joint reflex (use celia's data) from df_var"
   ]
  },
  {
   "cell_type": "code",
   "execution_count": 26,
   "id": "85914c7e",
   "metadata": {},
   "outputs": [],
   "source": [
    "\"\"\" \n",
    "func: \n",
    "    get the variable track up from df \n",
    "args: \n",
    "    df: panda data \n",
    "    method: (string) how we compress the data \n",
    "    idx_single: list[string] list of data point name\n",
    "return: \n",
    "    var_ls_ls: list[list[float]]\n",
    "\"\"\"\n",
    "import numpy as np\n",
    "def flex_variable(df_var, idx_single):\n",
    "    \n",
    "    # loop the data by name \n",
    "    var_ls_ls = []\n",
    "    for name in idx_single:\n",
    "        # get col from df \n",
    "        angle = df_var.loc[df_var['ID'] == name]['average-angle'].tolist()\n",
    "        # get only float \n",
    "        angle_f = [i for i in angle if i==i]\n",
    "        # append \n",
    "        var_ls_ls.append(angle_f)\n",
    "        \n",
    "    return var_ls_ls"
   ]
  },
  {
   "cell_type": "code",
   "execution_count": 27,
   "id": "9fad0202",
   "metadata": {},
   "outputs": [],
   "source": [
    "\"\"\"func: flex_variable\"\"\"\n",
    "flex_ls_ls = flex_variable(df_var, idx_single)\n",
    "X_np = np.array(flex_ls_ls)"
   ]
  },
  {
   "cell_type": "code",
   "execution_count": 28,
   "id": "d817a9ac",
   "metadata": {},
   "outputs": [
    {
     "name": "stdout",
     "output_type": "stream",
     "text": [
      "train and test model\n",
      "a starified train/test spliting\n",
      "acc, pre, rec, f1:  0.2727272727272727 0.17575757575757575 0.2727272727272727 0.21363636363636365\n"
     ]
    },
    {
     "data": {
      "image/png": "[encoded data removed]",
      "text/plain": [
       "<Figure size 432x288 with 2 Axes>"
      ]
     },
     "metadata": {
      "needs_background": "light"
     },
     "output_type": "display_data"
    },
    {
     "data": {
      "image/png": "[encoded data removed]",
      "text/plain": [
       "<Figure size 412x360 with 1 Axes>"
      ]
     },
     "metadata": {
      "needs_background": "light"
     },
     "output_type": "display_data"
    }
   ],
   "source": [
    "print(\"train and test model\")\n",
    "# label tranform\n",
    "y_score = flex_score\n",
    "y_label = [int(i*2) for i in y_score]\n",
    "\"\"\"using func: \"\"\"\n",
    "X, y = X_np, np.array(y_label)\n",
    "result, best_model, best_f1, y_pred, y_test = split_train_evaluate(X, y, train_idx, test_idx)\n",
    "# append \n",
    "idx = 3\n",
    "X_all[idx], y_all[idx], y_pred_all[idx], y_test_all[idx] = X, y, y_pred, y_test\n",
    "\n",
    "\"\"\"using func: \"\"\"\n",
    "variable_name = ['left angle', 'right angle']\n",
    "scatter_label(X, y_score, variable_name)"
   ]
  },
  {
   "cell_type": "code",
   "execution_count": null,
   "id": "83d63b3e",
   "metadata": {},
   "outputs": [],
   "source": []
  },
  {
   "cell_type": "markdown",
   "id": "33f6c9f3",
   "metadata": {},
   "source": [
    "# Attribute 5: Asymmetric step (use stride length)"
   ]
  },
  {
   "cell_type": "code",
   "execution_count": 29,
   "id": "8ca505d8",
   "metadata": {},
   "outputs": [],
   "source": [
    "\"\"\"\n",
    "func: \n",
    "    compute asymm index for 4 number\n",
    "args: \n",
    "    ls_4: list[float]\n",
    "return: \n",
    "    sum(result): float\n",
    "\"\"\"\n",
    "def asymm_index(ls_4):\n",
    "    # compute average value\n",
    "    x_ave = sum(ls_4)/4\n",
    "    # init result list \n",
    "    result = [] \n",
    "    # loop thourgh the input list\n",
    "    for i in ls_4: \n",
    "        # compute asymm index \n",
    "        asy_idx = abs(0.5*((i-x_ave)/(i+x_ave))) * 100\n",
    "        # append to result\n",
    "        result.append(asy_idx)\n",
    "    return sum(result)\n",
    "\n",
    "\"\"\" \n",
    "func: \n",
    "    get the variable track up from df \n",
    "args: \n",
    "    df: panda data \n",
    "    method: (string) how we compress the data \n",
    "    idx_single: list[string] list of data point name\n",
    "return: \n",
    "    var_ls_ls: list[list[float]]\n",
    "\"\"\"\n",
    "import numpy as np\n",
    "def asymm_variable(df_var, idx_single):\n",
    "    \n",
    "    # loop the data by name\\\n",
    "    var_ls_ls = []\n",
    "    var_raw = []\n",
    "    for name in idx_single:\n",
    "        # get col from df \n",
    "        asymm = df_var.loc[df_var['ID'] == name]['stride-time'].tolist()\n",
    "        # get valid number \n",
    "        test = asymm\n",
    "        ls1 = [test[0], test[3], test[6], test[9]]\n",
    "        ls2 = [test[1], test[4], test[7], test[10]]\n",
    "        \n",
    "        \"\"\"func: \"\"\"\n",
    "        asy1 = asymm_index(ls1)\n",
    "        asy2 = asymm_index(ls2)\n",
    "        # append \n",
    "        var_raw.append([ls1, ls2])\n",
    "        var_ls_ls.append([asy1, asy2])\n",
    "        \n",
    "    return var_raw, var_ls_ls"
   ]
  },
  {
   "cell_type": "code",
   "execution_count": 30,
   "id": "9e04771a",
   "metadata": {},
   "outputs": [],
   "source": [
    "\"\"\"func: \"\"\"\n",
    "var_raw, asymm_ls_ls = asymm_variable(df_var, idx_single)\n",
    "\"\"\"func: \"\"\"\n",
    "X_np = col_fill(np.array(asymm_ls_ls))"
   ]
  },
  {
   "cell_type": "code",
   "execution_count": 31,
   "id": "6c6dd950",
   "metadata": {},
   "outputs": [
    {
     "name": "stdout",
     "output_type": "stream",
     "text": [
      "train and test model\n",
      "a starified train/test spliting\n",
      "acc, pre, rec, f1:  0.5454545454545454 0.4727272727272727 0.5454545454545454 0.5\n"
     ]
    },
    {
     "data": {
      "image/png": "[encoded data removed]",
      "text/plain": [
       "<Figure size 432x288 with 2 Axes>"
      ]
     },
     "metadata": {
      "needs_background": "light"
     },
     "output_type": "display_data"
    },
    {
     "data": {
      "image/png": "[encoded data removed]",
      "text/plain": [
       "<Figure size 412x360 with 1 Axes>"
      ]
     },
     "metadata": {
      "needs_background": "light"
     },
     "output_type": "display_data"
    }
   ],
   "source": [
    "print(\"train and test model\")\n",
    "# label tranform\n",
    "y_score = asymm_score\n",
    "y_label = [int(i*2) for i in y_score]\n",
    "\"\"\"using func: \"\"\"\n",
    "X, y = X_np, np.array(y_label)\n",
    "result, best_model, best_f1, y_pred, y_test = split_train_evaluate(X, y, train_idx, test_idx)\n",
    "# append \n",
    "idx = 4\n",
    "X_all[idx], y_all[idx], y_pred_all[idx], y_test_all[idx] = X, y, y_pred, y_test\n",
    "\n",
    "\"\"\"using func: \"\"\"\n",
    "variable_name = ['step 1', 'step 2']\n",
    "scatter_label(X, y_score, variable_name)"
   ]
  },
  {
   "cell_type": "code",
   "execution_count": null,
   "id": "454a98a0",
   "metadata": {},
   "outputs": [],
   "source": []
  },
  {
   "cell_type": "markdown",
   "id": "9754a27c",
   "metadata": {},
   "source": [
    "# Attribute 6: Weight bearing (use stride time)"
   ]
  },
  {
   "cell_type": "code",
   "execution_count": 32,
   "id": "18d02730",
   "metadata": {},
   "outputs": [],
   "source": [
    "def ave_min(ls): \n",
    "    return sum(ls)/min(ls)\n",
    "\n",
    "\"\"\" \n",
    "func: \n",
    "    get the variable track up from df \n",
    "args: \n",
    "    df: panda data \n",
    "    method: (string) how we compress the data \n",
    "    idx_single: list[string] list of data point name\n",
    "return: \n",
    "    var_ls_ls: list[list[float]]\n",
    "\"\"\"\n",
    "import numpy as np\n",
    "def reluct_variable(df_var, idx_single):\n",
    "     \n",
    "    # make all positive \n",
    "    df_var['stance-time'] = df_var['stance-time'].abs()\n",
    "    \n",
    "    # loop the data by name \n",
    "    var_ls_ls = []\n",
    "    for name in idx_single:\n",
    "        #print(\"name: \", name)\n",
    "        # get col from df \n",
    "        asymm = df_var.loc[df_var['ID'] == name]['stance-time'].tolist()\n",
    "        # get valid number \n",
    "        test = asymm\n",
    "        #print(\"test: \", test)\n",
    "        ls1 = [test[0], test[3], test[6], test[9]]\n",
    "        ls2 = [test[1], test[4], test[7], test[10]]\n",
    "        ls3 = [test[2], test[5], test[8], test[11]]\n",
    "        \n",
    "        \"\"\"func: \"\"\"\n",
    "        asy1 = ave_min(ls1)\n",
    "        asy2 = ave_min(ls2)\n",
    "        asy3 = ave_min(ls3)\n",
    "        \n",
    "        # append \n",
    "        #var_ls_ls.append([ls1, ls2, ls3])\n",
    "        var_ls_ls.append([asy1, asy2, asy3])\n",
    "        \n",
    "    return var_ls_ls"
   ]
  },
  {
   "cell_type": "code",
   "execution_count": 33,
   "id": "84a0f000",
   "metadata": {},
   "outputs": [],
   "source": [
    "\"\"\"func: \"\"\"\n",
    "var_ls_ls = reluct_variable(df_var, idx_single)\n",
    "X_np = np.array(var_ls_ls)"
   ]
  },
  {
   "cell_type": "code",
   "execution_count": 34,
   "id": "b319790a",
   "metadata": {},
   "outputs": [
    {
     "name": "stdout",
     "output_type": "stream",
     "text": [
      "train and test model\n",
      "a starified train/test spliting\n",
      "acc, pre, rec, f1:  0.2727272727272727 0.07438016528925619 0.2727272727272727 0.11688311688311687\n"
     ]
    },
    {
     "data": {
      "image/png": "[encoded data removed]",
      "text/plain": [
       "<Figure size 432x288 with 2 Axes>"
      ]
     },
     "metadata": {
      "needs_background": "light"
     },
     "output_type": "display_data"
    },
    {
     "data": {
      "image/png": "[encoded data removed]",
      "text/plain": [
       "<Figure size 412x360 with 1 Axes>"
      ]
     },
     "metadata": {
      "needs_background": "light"
     },
     "output_type": "display_data"
    }
   ],
   "source": [
    "print(\"train and test model\")\n",
    "# label tranform\n",
    "y_score = weight_score\n",
    "y_label = [int(i*2) for i in y_score]\n",
    "\"\"\"using func: \"\"\"\n",
    "X, y = X_np, np.array(y_label)\n",
    "result, best_model, best_f1, y_pred, y_test = split_train_evaluate(X, y, train_idx, test_idx)\n",
    "# append \n",
    "idx = 5\n",
    "X_all[idx], y_all[idx], y_pred_all[idx], y_test_all[idx] = X, y, y_pred, y_test\n",
    "\n",
    "\"\"\"using func: \"\"\"\n",
    "variable_name = ['step 1', 'step 2']\n",
    "scatter_label(X[:, 1:], y_score, variable_name)"
   ]
  },
  {
   "cell_type": "code",
   "execution_count": null,
   "id": "a45b5a29",
   "metadata": {},
   "outputs": [],
   "source": []
  },
  {
   "cell_type": "markdown",
   "id": "f18c7e39",
   "metadata": {},
   "source": [
    "# Compare X_all[idx], y_all[idx], y_pred_all[idx], y_test_all[idx] "
   ]
  },
  {
   "cell_type": "code",
   "execution_count": 36,
   "id": "df9cd9c2",
   "metadata": {},
   "outputs": [
    {
     "name": "stdout",
     "output_type": "stream",
     "text": [
      "X_all_np:  (69, 14)\n",
      "X_half:  (69, 7)\n"
     ]
    }
   ],
   "source": [
    "\n",
    "X_all_np = np.concatenate((X_all[0], X_all[1], X_all[2], X_all[3], X_all[4], X_all[5]), axis=1)\n",
    "X_half = np.concatenate(( X_all[1], X_all[2], X_all[4]), axis=1)\n",
    "print(\"X_all_np: \", X_all_np.shape)\n",
    "print(\"X_half: \", X_half.shape)"
   ]
  },
  {
   "cell_type": "code",
   "execution_count": null,
   "id": "a5ef3361",
   "metadata": {},
   "outputs": [],
   "source": []
  },
  {
   "cell_type": "code",
   "execution_count": 35,
   "id": "3427dcf9",
   "metadata": {},
   "outputs": [
    {
     "name": "stdout",
     "output_type": "stream",
     "text": [
      "check:  69\n"
     ]
    }
   ],
   "source": [
    "\"\"\" \n",
    "func: \n",
    "    give NRS based on 6 attributes\n",
    "args: \n",
    "    ls_score: list[float] \n",
    "return: \n",
    "    NRS: float\n",
    "\"\"\"\n",
    "def attri_gait(ls): \n",
    "    NRS = 0\n",
    "    if ls[5] >= 2.5: \n",
    "        NRS = ls[5] + 0.5\n",
    "    elif max(ls[0], ls[1], ls[3]) <= 1 and max(ls[2], ls[4], ls[5]) == 0: \n",
    "        NRS = 1 \n",
    "    elif max(ls[0], ls[3]) <= 2 and ls[1] <= 1 and max(ls[2], ls[4], ls[5]) <= 0.5: \n",
    "        NRS = 1.5 \n",
    "    elif max(ls[0], ls[1], ls[3]) <= 2 and max(ls[2], ls[4], ls[5]) <= 1.5: \n",
    "        NRS = 2 \n",
    "    elif max(ls[0], ls[1], ls[3]) <= 2.5 and max(ls[2], ls[4], ls[5]) <= 1.5: \n",
    "        NRS = 2.5 \n",
    "    # final check is there is only one large score \n",
    "    elif sorted([ls[0], ls[1], ls[2], ls[3], ls[4], ls[5]])[-2] <= 2.5: \n",
    "        NRS = 2.5\n",
    "    else: \n",
    "        NRS = 3\n",
    "    \n",
    "    return NRS\n",
    "\n",
    "NRS = []\n",
    "for i in range(len(y_all[0])): \n",
    "    ls = [y_all[0][i], y_all[1][i], y_all[2][i], y_all[3][i], y_all[4][i], y_all[5][i]]\n",
    "    ls = [i/2 for i in ls]\n",
    "    \"\"\"func: \"\"\"\n",
    "    NRS.append(attri_gait(ls))\n",
    "print(\"check: \", len(NRS))"
   ]
  },
  {
   "cell_type": "code",
   "execution_count": 39,
   "id": "7858a361",
   "metadata": {},
   "outputs": [
    {
     "name": "stdout",
     "output_type": "stream",
     "text": [
      "write out X and y: \n"
     ]
    }
   ],
   "source": [
    "print(\"write out X and y: \")\n",
    "\n",
    "pd.DataFrame(X_all_np).to_csv(\"X1.csv\")\n",
    "pd.DataFrame(X_half).to_csv(\"X2.csv\")\n",
    "pd.DataFrame(NRS).to_csv(\"y.csv\")"
   ]
  },
  {
   "cell_type": "code",
   "execution_count": null,
   "id": "686f2c26",
   "metadata": {},
   "outputs": [],
   "source": []
  },
  {
   "cell_type": "code",
   "execution_count": 42,
   "id": "0a1688e0",
   "metadata": {},
   "outputs": [],
   "source": [
    "from sklearn.model_selection import train_test_split\n",
    "\n",
    "def evaluate_nrs(X, y):\n",
    "\n",
    "    # init result to store performance\n",
    "    result = []\n",
    "    # init best model, later judge by f1\n",
    "    best_model, best_f1 = 0, 0\n",
    "    \n",
    "    # splitting X and y into training and testing sets\n",
    "    X_train, X_test, y_train, y_test = train_test_split(X, y, stratify=y, random_state=42)\n",
    "\n",
    "    # a list of models \n",
    "    models = [SGDClassifier(max_iter=1000, tol=1e-3), GaussianNB(), DecisionTreeClassifier(random_state=0), svm.SVC(kernel='linear')]\n",
    "\n",
    "    \"\"\"using func: wiht loo\"\"\"\n",
    "    y_pred = loo_best_model(X_train, y_train, X_test, models)\n",
    "    \n",
    "    \"\"\"using func: \"\"\"\n",
    "    acc, pre, rec, f1 = evaluate(y_test, y_pred)\n",
    "    print(\"acc, pre, rec, f1: \", acc, pre, rec, f1)\n",
    "    # back-transform label to score \n",
    "    test_score = [i/2 for i in y_test]\n",
    "    pred_score = [i/2 for i in y_pred]\n",
    "    LABEL = sorted(list(set(test_score)))\n",
    "    # compute and plot the confusion matrix\n",
    "    cm = confusion_matrix(y_test, y_pred, labels = sorted(list(set(y_test))))\n",
    "    disp = ConfusionMatrixDisplay(confusion_matrix = cm, display_labels = LABEL)\n",
    "    disp.plot()\n",
    "    plt.show()\n",
    "    \n",
    "    return result, best_model, best_f1, y_pred, y_test"
   ]
  },
  {
   "cell_type": "code",
   "execution_count": 57,
   "id": "b815420d",
   "metadata": {},
   "outputs": [
    {
     "name": "stdout",
     "output_type": "stream",
     "text": [
      "make prediction with all variables: \n",
      "X:  (69, 7)\n",
      "a starified train/test spliting\n",
      "acc, pre, rec, f1:  0.8181818181818182 0.6694214876033059 0.8181818181818182 0.7363636363636363\n"
     ]
    },
    {
     "data": {
      "image/png": "[encoded data removed]",
      "text/plain": [
       "<Figure size 432x288 with 2 Axes>"
      ]
     },
     "metadata": {
      "needs_background": "light"
     },
     "output_type": "display_data"
    }
   ],
   "source": [
    "print(\"make prediction with all variables: \")\n",
    "\n",
    "y_all_np = np.array([int(2*i) for i in NRS])\n",
    "X, y = X_all_np, y_all_np\n",
    "print(\"X: \", X.shape)\n",
    "result, best_model, best_f1, y_pred, y_test = split_train_evaluate(X, y,train_idx,test_idx)"
   ]
  },
  {
   "cell_type": "code",
   "execution_count": 59,
   "id": "6c3c416e",
   "metadata": {},
   "outputs": [
    {
     "name": "stdout",
     "output_type": "stream",
     "text": [
      "a starified train/test spliting\n",
      "acc, pre, rec, f1:  0.45454545454545453 0.6439393939393939 0.45454545454545453 0.5303030303030302\n"
     ]
    },
    {
     "data": {
      "image/png": "[encoded data removed]",
      "text/plain": [
       "<Figure size 432x288 with 2 Axes>"
      ]
     },
     "metadata": {
      "needs_background": "light"
     },
     "output_type": "display_data"
    }
   ],
   "source": [
    "\n",
    "y_all_np = np.array([int(2*i) for i in nrs_single])\n",
    "X, y = X_all_np, y_all_np\n",
    "result, best_model, best_f1, y_pred, y_test = split_train_evaluate(X, y,train_idx,test_idx)"
   ]
  },
  {
   "cell_type": "code",
   "execution_count": 44,
   "id": "024a315f",
   "metadata": {},
   "outputs": [
    {
     "name": "stdout",
     "output_type": "stream",
     "text": [
      "make prediction with all variables: \n",
      "acc, pre, rec, f1:  0.6666666666666666 0.6888888888888889 0.6666666666666666 0.6666666666666666\n"
     ]
    },
    {
     "data": {
      "image/png": "[encoded data removed]",
      "text/plain": [
       "<Figure size 432x288 with 2 Axes>"
      ]
     },
     "metadata": {
      "needs_background": "light"
     },
     "output_type": "display_data"
    }
   ],
   "source": [
    "print(\"make prediction with all variables: \")\n",
    "\n",
    "y_all_np = np.array([int(2*i) for i in NRS])\n",
    "X, y = X_all_np, y_all_np\n",
    "result, best_model, best_f1, y_pred, y_test = evaluate_nrs(X, y)"
   ]
  },
  {
   "cell_type": "code",
   "execution_count": 50,
   "id": "2380de7b",
   "metadata": {},
   "outputs": [],
   "source": [
    "# make 1.5 to 2 for splitting\n",
    "nrs_single = [i if i != 1.5 else 2 for i in nrs_single]"
   ]
  },
  {
   "cell_type": "code",
   "execution_count": 51,
   "id": "026d7dc5",
   "metadata": {},
   "outputs": [
    {
     "name": "stdout",
     "output_type": "stream",
     "text": [
      "acc, pre, rec, f1:  0.2777777777777778 0.21666666666666667 0.2777777777777778 0.23575498575498577\n"
     ]
    },
    {
     "data": {
      "image/png": "[encoded data removed]",
      "text/plain": [
       "<Figure size 432x288 with 2 Axes>"
      ]
     },
     "metadata": {
      "needs_background": "light"
     },
     "output_type": "display_data"
    }
   ],
   "source": [
    "\n",
    "y_all_np = np.array([int(2*i) for i in nrs_single])\n",
    "X, y = X_all_np, y_all_np\n",
    "result, best_model, best_f1, y_pred, y_test = evaluate_nrs(X, y)"
   ]
  },
  {
   "cell_type": "markdown",
   "id": "63648c93",
   "metadata": {},
   "source": [
    "# Results by Gait Attribute"
   ]
  },
  {
   "cell_type": "code",
   "execution_count": 52,
   "id": "a4fd56f0",
   "metadata": {},
   "outputs": [],
   "source": [
    "\n",
    "\n",
    "def nrs_sublist(Y):\n",
    "    NRS = []\n",
    "    for i in range(len(Y[0])): \n",
    "        ls = [Y[0][i], Y[1][i], Y[2][i], Y[3][i], Y[4][i], Y[5][i]]\n",
    "        ls = [i/2 for i in ls]\n",
    "        \"\"\"func: \"\"\"\n",
    "        NRS.append(attri_gait(ls))\n",
    "    return NRS\n",
    "\n",
    "def plot_cm(y_pred, y_test):\n",
    "    # back-transform label to score \n",
    "    test_score = [i/2 for i in y_test]\n",
    "    pred_score = [i/2 for i in y_pred]\n",
    "    LABEL = sorted(list(set(test_score)))\n",
    "    # compute and plot the confusion matrix\n",
    "    cm = confusion_matrix(y_test, y_pred, labels = sorted(list(set(y_test))))\n",
    "    disp = ConfusionMatrixDisplay(confusion_matrix = cm, display_labels = LABEL)\n",
    "    disp.plot()\n",
    "    plt.show()"
   ]
  },
  {
   "cell_type": "code",
   "execution_count": 53,
   "id": "2c0490d6",
   "metadata": {},
   "outputs": [
    {
     "name": "stdout",
     "output_type": "stream",
     "text": [
      "check:  11\n",
      "check:  11\n"
     ]
    },
    {
     "data": {
      "image/png": "[encoded data removed]",
      "text/plain": [
       "<Figure size 432x288 with 2 Axes>"
      ]
     },
     "metadata": {
      "needs_background": "light"
     },
     "output_type": "display_data"
    }
   ],
   "source": [
    "nrs_pred = nrs_sublist(y_pred_all)\n",
    "print(\"check: \", len(nrs_pred))\n",
    "\n",
    "nrs_test = nrs_sublist(y_test_all)\n",
    "print(\"check: \", len(nrs_test))\n",
    "\n",
    "y_pred = [int(i*2) for i in nrs_pred]\n",
    "y_test = [int(i*2) for i in nrs_test]\n",
    "plot_cm(y_pred, y_test)"
   ]
  },
  {
   "cell_type": "code",
   "execution_count": null,
   "id": "f13512d5",
   "metadata": {},
   "outputs": [],
   "source": []
  }
 ],
 "metadata": {
  "kernelspec": {
   "display_name": "Python 3 (ipykernel)",
   "language": "python",
   "name": "python3"
  },
  "language_info": {
   "codemirror_mode": {
    "name": "ipython",
    "version": 3
   },
   "file_extension": ".py",
   "mimetype": "text/x-python",
   "name": "python",
   "nbconvert_exporter": "python",
   "pygments_lexer": "ipython3",
   "version": "3.9.12"
  }
 },
 "nbformat": 4,
 "nbformat_minor": 5
}
